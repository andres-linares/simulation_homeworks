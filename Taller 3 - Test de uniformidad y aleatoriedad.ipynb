{
 "cells": [
  {
   "cell_type": "markdown",
   "metadata": {},
   "source": [
    "# Test de Uniformidad y Aleatoriedad\n",
    "### Pruebas de Kolmogorov-Smirnov"
   ]
  },
  {
   "cell_type": "code",
   "execution_count": 1,
   "metadata": {},
   "outputs": [
    {
     "name": "stdout",
     "output_type": "stream",
     "text": [
      "Requirement already satisfied: numpy in c:\\users\\andrés linares\\desktop\\simulacion\\lib\\site-packages (1.15.2)\n"
     ]
    }
   ],
   "source": [
    "!pip install numpy\n",
    "\n",
    "%matplotlib inline\n",
    "\n",
    "import numpy as np\n",
    "import matplotlib.pyplot as plt\n",
    "import random\n",
    "\n",
    "def get_random_numbers(size):\n",
    "    \"\"\"\n",
    "    \"\"\"\n",
    "    result = np.zeros(size)\n",
    "    for i in range(size):\n",
    "        result[i] = random.random()\n",
    "    return result\n",
    "    \n",
    "\n",
    "def get_numpy_random_numbers(size):\n",
    "    \"\"\"\n",
    "    \"\"\"\n",
    "    return np.random.uniform(0, 1, size)"
   ]
  },
  {
   "cell_type": "code",
   "execution_count": 2,
   "metadata": {},
   "outputs": [],
   "source": [
    "size = 500\n",
    "own_random_values = get_random_numbers(size)\n",
    "numpy_random_values = get_numpy_random_numbers(size)\n",
    "uniform_values = [1.0] * size\n",
    "\n",
    "x_own_random = np.sort(own_random_values)\n",
    "x_numpy_random = np.sort(numpy_random_values)\n",
    "x_uniform = np.arange(1 / size, 1 + 1 / size, 1 / size)\n",
    "\n",
    "y_own_random = np.cumsum(x_own_random / np.max(np.cumsum(x_own_random)))\n",
    "y_numpy_random = np.cumsum(x_numpy_random / np.max(np.cumsum(x_numpy_random)))\n",
    "y_uniform = np.cumsum(uniform_values / np.max(np.cumsum(uniform_values)))"
   ]
  },
  {
   "cell_type": "code",
   "execution_count": 3,
   "metadata": {},
   "outputs": [
    {
     "name": "stdout",
     "output_type": "stream",
     "text": [
      "0.25432639083328024\n",
      "0.25408735286726725\n"
     ]
    }
   ],
   "source": [
    "De_own_random = np.max(np.absolute(y_own_random - y_uniform))\n",
    "De_numpy_random = np.max(np.absolute(y_numpy_random - y_uniform))\n",
    "\n",
    "print(De_own_random)\n",
    "print(De_numpy_random)"
   ]
  },
  {
   "cell_type": "markdown",
   "metadata": {},
   "source": [
    "### Prueba $\\chi^2$"
   ]
  },
  {
   "cell_type": "code",
   "execution_count": 4,
   "metadata": {},
   "outputs": [],
   "source": [
    "def chi_square(random_values, classes):\n",
    "    \"\"\"\n",
    "    \"\"\"\n",
    "    frequency_values, bins, patches = plt.hist(random_values, classes)\n",
    "    plt.show()\n",
    "    expected_observations_per_class = size / classes\n",
    "    \n",
    "    summation = 0\n",
    "    for value in frequency_values:\n",
    "        squared = (value - expected_observations_per_class) ** 2\n",
    "        divided = squared / expected_observations_per_class\n",
    "        summation += divided\n",
    "    return summation"
   ]
  },
  {
   "cell_type": "code",
   "execution_count": 5,
   "metadata": {},
   "outputs": [
    {
     "data": {
      "image/png": "[encoded data removed]",
      "text/plain": [
       "<Figure size 432x288 with 1 Axes>"
      ]
     },
     "metadata": {
      "needs_background": "light"
     },
     "output_type": "display_data"
    },
    {
     "name": "stdout",
     "output_type": "stream",
     "text": [
      "El chi cuadrado del generador propio es: 19.439999999999998\n"
     ]
    },
    {
     "data": {
      "image/png": "[encoded data removed]",
      "text/plain": [
       "<Figure size 432x288 with 1 Axes>"
      ]
     },
     "metadata": {
      "needs_background": "light"
     },
     "output_type": "display_data"
    },
    {
     "name": "stdout",
     "output_type": "stream",
     "text": [
      "El chi cuadrado del generador numpy es: 12.879999999999999\n"
     ]
    }
   ],
   "source": [
    "classes = 20\n",
    "\n",
    "own_chi_value = chi_square(x_own_random, classes)\n",
    "print(\"El chi cuadrado del generador propio es: {}\".format(own_chi_value))\n",
    "\n",
    "numpy_chi_value = chi_square(x_numpy_random, classes)\n",
    "print(\"El chi cuadrado del generador numpy es: {}\".format(numpy_chi_value))"
   ]
  },
  {
   "cell_type": "markdown",
   "metadata": {},
   "source": [
    "### Prueba de rachas"
   ]
  },
  {
   "cell_type": "code",
   "execution_count": 18,
   "metadata": {},
   "outputs": [],
   "source": [
    "def streak_transformer(observations):\n",
    "    \"\"\"\n",
    "    \"\"\"\n",
    "    size = len(observations)\n",
    "    streak_string = \"\"\n",
    "    for i in range(size):\n",
    "        if(i == size - 1):\n",
    "            break\n",
    "        if(observations[i] < observations[i + 1]):\n",
    "            streak_string += \"1\"\n",
    "        else:\n",
    "            streak_string += \"0\"\n",
    "    return streak_string\n",
    "\n",
    "def streak_counter(streak_string):\n",
    "    \"\"\"\n",
    "    \"\"\"\n",
    "    size = len(streak_string)\n",
    "    one_streaks = 0\n",
    "    zero_streaks = 0\n",
    "    \n",
    "    for i in range(size):\n",
    "        if(i == size - 1):\n",
    "            break\n",
    "        if(streak_string[i] == \"1\" and streak_string[i + 1] == \"0\"):\n",
    "            one_streaks += 1\n",
    "        elif(streak_string[i] == \"0\" and streak_string[i + 1] == \"1\"):\n",
    "            zero_streaks += 1\n",
    "    \n",
    "    total_streaks = one_streaks + zero_streaks\n",
    "    result = (one_streaks, zero_streaks, total_streaks)\n",
    "    return result"
   ]
  },
  {
   "cell_type": "code",
   "execution_count": 23,
   "metadata": {},
   "outputs": [
    {
     "name": "stdout",
     "output_type": "stream",
     "text": [
      "(175, 174, 349) (170, 170, 340)\n"
     ]
    }
   ],
   "source": [
    "streak_own_string = streak_transformer(own_random_values)\n",
    "streak_numpy_string = streak_transformer(numpy_random_values)\n",
    "\n",
    "streak_own_values = streak_counter(streak_own_string)\n",
    "streak_numpy_values = streak_counter(streak_numpy_string)\n",
    "print(streak_own_values, streak_numpy_values)"
   ]
  },
  {
   "cell_type": "markdown",
   "metadata": {},
   "source": [
    "### Prueba de permutaciones"
   ]
  },
  {
   "cell_type": "code",
   "execution_count": null,
   "metadata": {},
   "outputs": [],
   "source": []
  },
  {
   "cell_type": "markdown",
   "metadata": {},
   "source": [
    "### Prueba de huecos"
   ]
  },
  {
   "cell_type": "code",
   "execution_count": null,
   "metadata": {},
   "outputs": [],
   "source": []
  }
 ],
 "metadata": {
  "kernelspec": {
   "display_name": "Python 3",
   "language": "python",
   "name": "python3"
  },
  "language_info": {
   "codemirror_mode": {
    "name": "ipython",
    "version": 3
   },
   "file_extension": ".py",
   "mimetype": "text/x-python",
   "name": "python",
   "nbconvert_exporter": "python",
   "pygments_lexer": "ipython3",
   "version": "3.7.0"
  }
 },
 "nbformat": 4,
 "nbformat_minor": 2
}
