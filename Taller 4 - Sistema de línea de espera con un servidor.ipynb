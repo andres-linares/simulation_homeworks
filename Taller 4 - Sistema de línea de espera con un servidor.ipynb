{
 "cells": [
  {
   "cell_type": "markdown",
   "metadata": {},
   "source": [
    "# Modelo de colas G/G/1"
   ]
  },
  {
   "cell_type": "code",
   "execution_count": 1,
   "metadata": {},
   "outputs": [],
   "source": [
    "import random\n",
    "import math\n",
    "import matplotlib.pyplot as plt"
   ]
  },
  {
   "cell_type": "code",
   "execution_count": 2,
   "metadata": {},
   "outputs": [],
   "source": [
    "def get_random_number():\n",
    "    \"\"\"\n",
    "    Genera una variable aleatoria\n",
    "    con una distribución uniforme.\n",
    "    \"\"\"\n",
    "    return random.random()\n",
    "\n",
    "def get_exponential(lambda_parameter):\n",
    "    \"\"\"\n",
    "    Genera una variable aleatoria\n",
    "    con una distribución exponencial.\n",
    "    \"\"\"\n",
    "    random_number = get_random_number()\n",
    "    value = - (math.log(1 - random_number) / float(lambda_parameter))\n",
    "    return value\n",
    "\n",
    "def get_normal():\n",
    "    \"\"\"\n",
    "    Genera una variable aleatoria\n",
    "    con una distribución normal\n",
    "    \"\"\"\n",
    "    random_number = get_random_number()\n",
    "    square_root = math.sqrt(-2 * math.log1p(random_number - 1))\n",
    "    sin = math.sin(2 * math.pi * random_number)\n",
    "    value = square_root * sin\n",
    "    if(value < 0):\n",
    "        value = 0\n",
    "    return value"
   ]
  },
  {
   "cell_type": "code",
   "execution_count": 3,
   "metadata": {},
   "outputs": [],
   "source": [
    "def arrival(actual_simulated_time):\n",
    "    \"\"\"\n",
    "    Recibe a un nuevo cliente.\n",
    "    \"\"\"\n",
    "    global time\n",
    "    global number_of_clients\n",
    "    global number_of_arrivals\n",
    "    global arrivals\n",
    "    global lambda_parameter\n",
    "    global max_service_time\n",
    "    global main_times\n",
    "    global clients, times\n",
    "    \n",
    "    \n",
    "    time = actual_simulated_time\n",
    "    \n",
    "    clients.append(number_of_clients)\n",
    "    times.append(time)\n",
    "    \n",
    "    number_of_clients += 1\n",
    "    number_of_arrivals += 1\n",
    "    arrivals.append(time)\n",
    "    \n",
    "    clients.append(number_of_clients)\n",
    "    times.append(time)\n",
    "    \n",
    "    new_simulated_time = get_exponential(lambda_parameter)\n",
    "    if(time + new_simulated_time < max_service_time):\n",
    "        main_times['arrival_times'] = time + new_simulated_time\n",
    "    if(number_of_clients == 1):\n",
    "        simulated_service_time = get_normal()\n",
    "        main_times['departure_times'] = time + simulated_service_time\n",
    "        services_time.append(simulated_service_time)\n",
    "        \n",
    "\n",
    "def server(actual_simulated_time):\n",
    "    \"\"\"\n",
    "    Recibe como parametro el tiempo en el que se realizará\n",
    "    la atención al cliente y posterior a ello lo atiende\n",
    "    siempre y cuando hayan clientes por atender.\n",
    "    \"\"\"\n",
    "    global time\n",
    "    global number_of_clients\n",
    "    global number_of_departures\n",
    "    global departures\n",
    "    global main_times\n",
    "    global clients, times\n",
    "\n",
    "    \n",
    "    time = actual_simulated_time\n",
    "    \n",
    "    clients.append(number_of_clients)\n",
    "    times.append(time)\n",
    "    \n",
    "    number_of_clients -= 1\n",
    "    number_of_departures += 1\n",
    "    departures.append(time)\n",
    "    \n",
    "    clients.append(number_of_clients)\n",
    "    times.append(time)\n",
    "    \n",
    "    if(number_of_clients > 0):\n",
    "        simulated_service_time = get_normal()\n",
    "        main_times['departure_times'] = time + simulated_service_time\n",
    "        services_time.append(simulated_service_time)"
   ]
  },
  {
   "cell_type": "code",
   "execution_count": 4,
   "metadata": {},
   "outputs": [],
   "source": [
    "time = 0 \n",
    "number_of_clients = 0\n",
    "number_of_arrivals = 0\n",
    "number_of_departures = 0\n",
    "max_service_time = 10\n",
    "simulation_time_after_last_client = 0\n",
    "actual_simulated_time = 0\n",
    "\n",
    "mean_system_time = 0\n",
    "mean_queue_time = 0\n",
    "\n",
    "departures = []\n",
    "arrivals = []\n",
    "services_time = []\n",
    "\n",
    "clients = [0] # Eje Y\n",
    "times = [0]   # Eje X\n",
    "\n",
    "M = 9999999999 #big big number\n",
    "\n",
    "main_times = {\n",
    "    'arrival_times': M,\n",
    "    'departure_times': M\n",
    "}\n",
    "\n",
    "lambda_parameter = 3"
   ]
  },
  {
   "cell_type": "code",
   "execution_count": 5,
   "metadata": {},
   "outputs": [],
   "source": [
    "actual_simulated_time = get_exponential(lambda_parameter)\n",
    "\n",
    "if actual_simulated_time > max_service_time:\n",
    "    simulation_time_after_last_client = 0\n",
    "    mean_system_time = 0\n",
    "    mean_queue_time = 0\n",
    "else:\n",
    "    arrival(actual_simulated_time)\n",
    "    \n",
    "    while(main_times['arrival_times'] != M or main_times['departure_times'] != M):\n",
    "        if(main_times['arrival_times'] < main_times['departure_times']):\n",
    "            new_simulated_time = main_times['arrival_times']\n",
    "            main_times['arrival_times'] = M\n",
    "            arrival(new_simulated_time)\n",
    "        if(main_times['departure_times'] < main_times['arrival_times']):\n",
    "            new_simulated_time = main_times['departure_times']\n",
    "            main_times['departure_times'] = M\n",
    "            server(new_simulated_time)\n",
    "    \n",
    "    simulation_time_after_last_client = max(0, time - max_service_time)\n",
    "    accumulated_1 = 0\n",
    "    accumulated_2 = 0\n",
    "    counter = 0\n",
    "    while counter < number_of_arrivals:\n",
    "        accumulated_1 += departures[counter] - arrivals[counter]\n",
    "        accumulated_2 += departures[counter] - arrivals[counter] - services_time[counter]\n",
    "        counter += 1\n",
    "    \n",
    "    mean_system_time = accumulated_1 / number_of_arrivals\n",
    "    mean_queue_time = accumulated_2 / number_of_arrivals"
   ]
  },
  {
   "cell_type": "code",
   "execution_count": 6,
   "metadata": {},
   "outputs": [
    {
     "data": {
      "image/png": "[encoded data removed]",
      "text/plain": [
       "<Figure size 432x288 with 1 Axes>"
      ]
     },
     "metadata": {
      "needs_background": "light"
     },
     "output_type": "display_data"
    },
    {
     "name": "stdout",
     "output_type": "stream",
     "text": [
      "Tiempo de simulación: 23.39521557190771\n",
      "Tiempo de servicio despues del cierre: 13.395215571907709\n",
      "Tiempo medio del sistema: 6.156077805443113\n",
      "Tiempo medio de la cola: 5.441878248836007\n",
      "\n",
      "Máximo número de clientes en el sistema: 16\n"
     ]
    }
   ],
   "source": [
    "plt.plot(times, clients)\n",
    "plt.show()\n",
    "\n",
    "print(\"Tiempo de simulación: {}\".format(time))\n",
    "print(\"Tiempo de servicio despues del cierre: {}\".format(simulation_time_after_last_client))\n",
    "print(\"Tiempo medio del sistema: {}\".format(mean_system_time))\n",
    "print(\"Tiempo medio de la cola: {}\".format(mean_queue_time))\n",
    "print(\"\\nMáximo número de clientes en el sistema: {}\".format(max(clients)))"
   ]
  }
 ],
 "metadata": {
  "kernelspec": {
   "display_name": "Python 3",
   "language": "python",
   "name": "python3"
  },
  "language_info": {
   "codemirror_mode": {
    "name": "ipython",
    "version": 3
   },
   "file_extension": ".py",
   "mimetype": "text/x-python",
   "name": "python",
   "nbconvert_exporter": "python",
   "pygments_lexer": "ipython3",
   "version": "3.7.0"
  }
 },
 "nbformat": 4,
 "nbformat_minor": 2
}
